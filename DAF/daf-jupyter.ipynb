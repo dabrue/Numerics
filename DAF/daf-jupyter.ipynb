{
 "cells": [
  {
   "cell_type": "markdown",
   "metadata": {},
   "source": [
    "# Distributed Approximating Functionals\n",
    "## Daniel A. Brue, PhD\n",
    "## March 2021"
   ]
  },
  {
   "cell_type": "code",
   "execution_count": 3,
   "metadata": {},
   "outputs": [],
   "source": [
    "# Import Distribution Libraries\n",
    "from IPython.display import Math\n",
    "import numpy as np\n",
    "import scipy as sp\n",
    "import scipy.special as sps\n",
    "import matplotlib.pyplot as plt\n",
    "\n",
    "# Import Local Libraries\n",
    "import DAF\n",
    "import OrthoBases\n",
    "import exfunctions"
   ]
  },
  {
   "cell_type": "code",
   "execution_count": null,
   "metadata": {},
   "outputs": [],
   "source": []
  },
  {
   "cell_type": "markdown",
   "metadata": {},
   "source": [
    "This is a second test. $$\\sqrt{\\pi}$$"
   ]
  },
  {
   "cell_type": "code",
   "execution_count": 4,
   "metadata": {},
   "outputs": [
    {
     "data": {
      "text/latex": [
       "$\\displaystyle \\int_{-\\infty}^{\\infty}H_m(x)H_n(x)e^{-x^2}dx = \\sqrt{\\pi}\\, 2^m m! \\delta_{mn}$"
      ],
      "text/plain": [
       "<IPython.core.display.Math object>"
      ]
     },
     "execution_count": 4,
     "metadata": {},
     "output_type": "execute_result"
    }
   ],
   "source": [
    "Math(r'\\int_{-\\infty}^{\\infty}H_m(x)H_n(x)e^{-x^2}dx = \\sqrt{\\pi}\\, 2^m m! \\delta_{mn}')"
   ]
  },
  {
   "cell_type": "code",
   "execution_count": null,
   "metadata": {},
   "outputs": [],
   "source": []
  },
  {
   "cell_type": "code",
   "execution_count": null,
   "metadata": {},
   "outputs": [],
   "source": []
  }
 ],
 "metadata": {
  "kernelspec": {
   "display_name": "Python 3",
   "language": "python",
   "name": "python3"
  },
  "language_info": {
   "codemirror_mode": {
    "name": "ipython",
    "version": 3
   },
   "file_extension": ".py",
   "mimetype": "text/x-python",
   "name": "python",
   "nbconvert_exporter": "python",
   "pygments_lexer": "ipython3",
   "version": "3.8.5"
  }
 },
 "nbformat": 4,
 "nbformat_minor": 4
}
